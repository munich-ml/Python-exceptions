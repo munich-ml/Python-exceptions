{
  "nbformat": 4,
  "nbformat_minor": 0,
  "metadata": {
    "colab": {
      "name": "functions_map_filter.ipynb",
      "provenance": [],
      "toc_visible": true,
      "authorship_tag": "ABX9TyPvnoyhSht5JmV57Yadxl9p",
      "include_colab_link": true
    },
    "kernelspec": {
      "name": "python3",
      "display_name": "Python 3"
    }
  },
  "cells": [
    {
      "cell_type": "markdown",
      "metadata": {
        "id": "view-in-github",
        "colab_type": "text"
      },
      "source": [
        "<a href=\"https://colab.research.google.com/github/munich-ml/Python-fundamentals/blob/main/functions_map_filter.ipynb\" target=\"_parent\"><img src=\"https://colab.research.google.com/assets/colab-badge.svg\" alt=\"Open In Colab\"/></a>"
      ]
    },
    {
      "cell_type": "markdown",
      "metadata": {
        "id": "BQ1nS-A_xxKk"
      },
      "source": [
        "# Functions to Know in Python\r\n",
        "Following this [tutorial](https://towardsdatascience.com/three-functions-to-know-in-python-4f2d27a4d05)"
      ]
    },
    {
      "cell_type": "markdown",
      "metadata": {
        "id": "5_aC6Dw8yCr8"
      },
      "source": [
        "# `lambda` function\r\n"
      ]
    },
    {
      "cell_type": "code",
      "metadata": {
        "id": "En7Bjv11xwz-"
      },
      "source": [
        "square_func = lambda x: x**2"
      ],
      "execution_count": 1,
      "outputs": []
    },
    {
      "cell_type": "code",
      "metadata": {
        "colab": {
          "base_uri": "https://localhost:8080/"
        },
        "id": "qnk1pC4bxqSu",
        "outputId": "3102a803-a62f-4195-d959-f905d1b52e1d"
      },
      "source": [
        "type(square_func)"
      ],
      "execution_count": 2,
      "outputs": [
        {
          "output_type": "execute_result",
          "data": {
            "text/plain": [
              "function"
            ]
          },
          "metadata": {
            "tags": []
          },
          "execution_count": 2
        }
      ]
    },
    {
      "cell_type": "code",
      "metadata": {
        "colab": {
          "base_uri": "https://localhost:8080/"
        },
        "id": "MPFAU84LyQSx",
        "outputId": "41b5438f-6e46-4315-a052-cbdd3173ef70"
      },
      "source": [
        "square_func(4)"
      ],
      "execution_count": 3,
      "outputs": [
        {
          "output_type": "execute_result",
          "data": {
            "text/plain": [
              "16"
            ]
          },
          "metadata": {
            "tags": []
          },
          "execution_count": 3
        }
      ]
    },
    {
      "cell_type": "markdown",
      "metadata": {
        "id": "ktsMCX17yX7A"
      },
      "source": [
        "# `map` function\r\n",
        "`map(function, iterable)`"
      ]
    },
    {
      "cell_type": "code",
      "metadata": {
        "id": "SDd0ucnMyTLf"
      },
      "source": [
        "nums = [1, 3, 5, 7]\r\n",
        "square_nums = map(square_func, nums)"
      ],
      "execution_count": 4,
      "outputs": []
    },
    {
      "cell_type": "code",
      "metadata": {
        "colab": {
          "base_uri": "https://localhost:8080/"
        },
        "id": "b-xpYkrNylm0",
        "outputId": "ab7c24cb-0845-451e-9446-c5a2734d4324"
      },
      "source": [
        "type(square_nums)"
      ],
      "execution_count": 5,
      "outputs": [
        {
          "output_type": "execute_result",
          "data": {
            "text/plain": [
              "map"
            ]
          },
          "metadata": {
            "tags": []
          },
          "execution_count": 5
        }
      ]
    },
    {
      "cell_type": "code",
      "metadata": {
        "colab": {
          "base_uri": "https://localhost:8080/"
        },
        "id": "4n_TR6Q1ynNz",
        "outputId": "b241d3bf-e15c-400a-f7bc-c31afeddb2e7"
      },
      "source": [
        "list(square_nums)"
      ],
      "execution_count": 6,
      "outputs": [
        {
          "output_type": "execute_result",
          "data": {
            "text/plain": [
              "[1, 9, 25, 49]"
            ]
          },
          "metadata": {
            "tags": []
          },
          "execution_count": 6
        }
      ]
    },
    {
      "cell_type": "markdown",
      "metadata": {
        "id": "Nn8_hKhhzzsR"
      },
      "source": [
        "## `map` example Cryptography"
      ]
    },
    {
      "cell_type": "code",
      "metadata": {
        "id": "Ct1FXXu2ywEg"
      },
      "source": [
        "def offset_char(char, n_spaces=0):\r\n",
        "    \"\"\"Return an character offset be n_spaces to the input char\"\"\"\r\n",
        "    ABC = 'abcdefghijklmnopqrstuvwxyz'   \r\n",
        "    if char not in ABC:\r\n",
        "        return char      # can't offset unknown character\r\n",
        "    return ABC[(ABC.index(char) + n_spaces) % len(ABC)]"
      ],
      "execution_count": 7,
      "outputs": []
    },
    {
      "cell_type": "code",
      "metadata": {
        "colab": {
          "base_uri": "https://localhost:8080/",
          "height": 35
        },
        "id": "HSbgoksm02PQ",
        "outputId": "60f251f4-c7e6-4c88-a93d-7fd5b45fd8b5"
      },
      "source": [
        "offset_char(\"b\", 4)"
      ],
      "execution_count": 8,
      "outputs": [
        {
          "output_type": "execute_result",
          "data": {
            "application/vnd.google.colaboratory.intrinsic+json": {
              "type": "string"
            },
            "text/plain": [
              "'f'"
            ]
          },
          "metadata": {
            "tags": []
          },
          "execution_count": 8
        }
      ]
    },
    {
      "cell_type": "code",
      "metadata": {
        "id": "10dcPHT61r0-"
      },
      "source": [
        "def encrypt(msg, n_spaces):\r\n",
        "    \"\"\"Encrypts the str message msg\"\"\"\r\n",
        "    offset_func = lambda char: offset_char(char, n_spaces)\r\n",
        "    encrypt_map = map(offset_func, msg)  # map returns a map object\r\n",
        "    s = \"\".join(encrypt_map)  # str.join() takes an iterabe (here the map obj) as input \r\n",
        "    return s"
      ],
      "execution_count": 9,
      "outputs": []
    },
    {
      "cell_type": "code",
      "metadata": {
        "colab": {
          "base_uri": "https://localhost:8080/",
          "height": 35
        },
        "id": "t20WM7z32TTv",
        "outputId": "be8e6add-5009-4b97-c480-a3e785d7d7d9"
      },
      "source": [
        "encrypt(\"Holger Steffens\", 1)"
      ],
      "execution_count": 10,
      "outputs": [
        {
          "output_type": "execute_result",
          "data": {
            "application/vnd.google.colaboratory.intrinsic+json": {
              "type": "string"
            },
            "text/plain": [
              "'Hpmhfs Sufggfot'"
            ]
          },
          "metadata": {
            "tags": []
          },
          "execution_count": 10
        }
      ]
    },
    {
      "cell_type": "markdown",
      "metadata": {
        "id": "UbWGIBco409K"
      },
      "source": [
        "Test the function by creating a `decrypt` function that undos the encryption"
      ]
    },
    {
      "cell_type": "code",
      "metadata": {
        "id": "cyvmLJc22X28"
      },
      "source": [
        "decrypt = lambda msg, n_spaces: encrypt(msg, -n_spaces)"
      ],
      "execution_count": 11,
      "outputs": []
    },
    {
      "cell_type": "code",
      "metadata": {
        "colab": {
          "base_uri": "https://localhost:8080/"
        },
        "id": "wink930d3_p7",
        "outputId": "99446997-3e61-4dc3-8a2d-82e0a5cd2079"
      },
      "source": [
        "n_spaces = 11\r\n",
        "msg = \"this is very nice!\"\r\n",
        "encr_s = encrypt(msg, n_spaces)\r\n",
        "print(encr_s, \"<-- This clearly is encrpyted\")\r\n",
        "print(decrypt(encr_s, n_spaces), \"<-- and encrypted, again!\")"
      ],
      "execution_count": 12,
      "outputs": [
        {
          "output_type": "stream",
          "text": [
            "estd td gpcj ytnp! <-- This clearly is encrpyted\n",
            "this is very nice! <-- and encrypted, again!\n"
          ],
          "name": "stdout"
        }
      ]
    },
    {
      "cell_type": "markdown",
      "metadata": {
        "id": "5D9x1xa71wBo"
      },
      "source": [
        "# `filter` function\r\n",
        "`filter(function, iterable)`"
      ]
    },
    {
      "cell_type": "code",
      "metadata": {
        "colab": {
          "base_uri": "https://localhost:8080/"
        },
        "id": "MfXnB7yz138n",
        "outputId": "dca37331-510b-41aa-deef-b05bfbb1c507"
      },
      "source": [
        "is_even = lambda x: x%2==0\r\n",
        "list(filter(is_even, range(10)))"
      ],
      "execution_count": 13,
      "outputs": [
        {
          "output_type": "execute_result",
          "data": {
            "text/plain": [
              "[0, 2, 4, 6, 8]"
            ]
          },
          "metadata": {
            "tags": []
          },
          "execution_count": 13
        }
      ]
    },
    {
      "cell_type": "code",
      "metadata": {
        "colab": {
          "base_uri": "https://localhost:8080/"
        },
        "id": "6tZ4b3tr4YV8",
        "outputId": "efad3d28-6c20-4ecc-cb94-bda1b53134b5"
      },
      "source": [
        "is_str = lambda x: type(x)==str\r\n",
        "inputs = [1, \"1\", \"hello world\", (), True, \"True\"]\r\n",
        "list(filter(is_str, inputs))"
      ],
      "execution_count": 14,
      "outputs": [
        {
          "output_type": "execute_result",
          "data": {
            "text/plain": [
              "['1', 'hello world', 'True']"
            ]
          },
          "metadata": {
            "tags": []
          },
          "execution_count": 14
        }
      ]
    },
    {
      "cell_type": "code",
      "metadata": {
        "id": "XQTYCCPBAsMj"
      },
      "source": [
        ""
      ],
      "execution_count": 14,
      "outputs": []
    }
  ]
}