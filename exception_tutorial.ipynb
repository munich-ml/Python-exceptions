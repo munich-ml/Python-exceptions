{
 "cells": [
  {
   "cell_type": "markdown",
   "metadata": {},
   "source": [
    "# Exception handling tutorial"
   ]
  },
  {
   "cell_type": "code",
   "execution_count": 2,
   "metadata": {},
   "outputs": [
    {
     "ename": "FileNotFoundError",
     "evalue": "[Errno 2] No such file or directory: 'some_file_that_doesnt_exist.txt'",
     "output_type": "error",
     "traceback": [
      "\u001b[1;31m---------------------------------------------------------------------------\u001b[0m",
      "\u001b[1;31mFileNotFoundError\u001b[0m                         Traceback (most recent call last)",
      "\u001b[1;32m<ipython-input-2-5a745c18d677>\u001b[0m in \u001b[0;36m<module>\u001b[1;34m\u001b[0m\n\u001b[1;32m----> 1\u001b[1;33m \u001b[0mf\u001b[0m \u001b[1;33m=\u001b[0m \u001b[0mopen\u001b[0m\u001b[1;33m(\u001b[0m\u001b[1;34m\"some_file_that_doesnt_exist.txt\"\u001b[0m\u001b[1;33m)\u001b[0m\u001b[1;33m\u001b[0m\u001b[1;33m\u001b[0m\u001b[0m\n\u001b[0m",
      "\u001b[1;31mFileNotFoundError\u001b[0m: [Errno 2] No such file or directory: 'some_file_that_doesnt_exist.txt'"
     ]
    }
   ],
   "source": [
    "f = open(\"some_file_that_doesnt_exist.txt\")"
   ]
  },
  {
   "cell_type": "markdown",
   "metadata": {},
   "source": [
    "The hidden stacktrace is usually helpful to the developer, but shoud be hidden from the user of the final software."
   ]
  },
  {
   "cell_type": "code",
   "execution_count": 3,
   "metadata": {},
   "outputs": [
    {
     "name": "stdout",
     "output_type": "stream",
     "text": [
      "[Errno 2] No such file or directory: 'some_file_that_doesnt_exist.txt'\n"
     ]
    }
   ],
   "source": [
    "try:\n",
    "    f = open(\"some_file_that_doesnt_exist.txt\")\n",
    "except FileNotFoundError as e:\n",
    "    print(e)"
   ]
  },
  {
   "cell_type": "markdown",
   "metadata": {},
   "source": [
    "Exceptions should be raised and excepted as specific as possible. \n",
    "\n",
    "If a general `Exception` is excepted, it must be the last in the sequence!"
   ]
  },
  {
   "cell_type": "code",
   "execution_count": 4,
   "metadata": {},
   "outputs": [
    {
     "name": "stdout",
     "output_type": "stream",
     "text": [
      "General exception <class 'NameError'> name 'b' is not defined\n"
     ]
    }
   ],
   "source": [
    "try:\n",
    "    a = b\n",
    "except FileNotFoundError as e:\n",
    "    print(\"Specific error:\", e)\n",
    "except Exception as e:\n",
    "    print(\"General exception\", type(e), e)"
   ]
  },
  {
   "cell_type": "markdown",
   "metadata": {},
   "source": [
    "## Some important exceptions\n",
    "| `Exception`       | Descrption                        |\n",
    "|-------------------|-----------------------------------|\n",
    "| `NameError`       | Raised when a name is not found   |\n",
    "| `TypeError`       | Raised when a function receives an arguement of inappropriate type. E.g. indexing a `list` with a `str` |\n",
    "| `ValueError`      | Raised when a function receives an arguement of correct type but inappropriate value. E.g. `math.sqrt(-3)` |\n",
    "| `KeyError`       | Raised when a key is not found in a dictionary  |\n",
    "| `OSError` | General system error. Also Baseclass of `FileNotFoundError`|\n",
    "| `ZeroDivisionError` | Raised when deviding by 0 |"
   ]
  },
  {
   "cell_type": "markdown",
   "metadata": {},
   "source": [
    "# Return codes versus exceptions"
   ]
  },
  {
   "cell_type": "markdown",
   "metadata": {},
   "source": [
    "## 1. Temperature sensor example with return code for error"
   ]
  },
  {
   "cell_type": "code",
   "execution_count": 5,
   "metadata": {},
   "outputs": [],
   "source": [
    "import numpy as np\n",
    "np.random.seed = 42"
   ]
  },
  {
   "cell_type": "code",
   "execution_count": 6,
   "metadata": {
    "scrolled": true
   },
   "outputs": [],
   "source": [
    "def read_temperature():\n",
    "    \"\"\" temperature sensor dummy \"\"\"\n",
    "    temp = np.random.rand() * 10 + 20\n",
    "    error = np.random.rand() < 0.2\n",
    "    \n",
    "    # error handling\n",
    "    if error:\n",
    "        return \"TempSensorUnavailable\"\n",
    "    \n",
    "    return temp"
   ]
  },
  {
   "cell_type": "code",
   "execution_count": 8,
   "metadata": {},
   "outputs": [
    {
     "name": "stdout",
     "output_type": "stream",
     "text": [
      "do_further_processing(23.0)\n",
      "do_further_processing(25.6)\n",
      "do_error_handling()\n",
      "do_further_processing(29.6)\n",
      "do_further_processing(21.8)\n",
      "do_further_processing(26.7)\n",
      "do_further_processing(22.5)\n",
      "do_error_handling()\n",
      "do_further_processing(22.7)\n",
      "do_further_processing(26.1)\n"
     ]
    }
   ],
   "source": [
    "for _ in range(10):\n",
    "    temp = read_temperature()\n",
    "    if type(temp) == float:    # regular case\n",
    "        print(\"do_further_processing({:.1f})\".format(temp))\n",
    "    else:                      # str is returned in error case\n",
    "        print(\"do_error_handling()\")"
   ]
  },
  {
   "cell_type": "markdown",
   "metadata": {},
   "source": [
    "## 2. Same functionality with custom exception for errors"
   ]
  },
  {
   "cell_type": "code",
   "execution_count": 13,
   "metadata": {},
   "outputs": [],
   "source": [
    "class TempSensorUnavailableError(Exception): pass\n",
    "\n",
    "def read_temperature_ex():\n",
    "    \"\"\" temperature sensor dummy \"\"\"\n",
    "    temp = np.random.rand() * 10 + 20\n",
    "    error = np.random.rand() < 0.2\n",
    "        \n",
    "    # error handling\n",
    "    if error:\n",
    "        raise TempSensorUnavailableError\n",
    "    \n",
    "    return temp"
   ]
  },
  {
   "cell_type": "code",
   "execution_count": 18,
   "metadata": {},
   "outputs": [
    {
     "name": "stdout",
     "output_type": "stream",
     "text": [
      "do_further_processing(26.3)\n",
      "do_further_processing(26.2)\n",
      "do_further_processing(26.6)\n",
      "do_further_processing(28.2)\n",
      "do_error_handling()\n",
      "do_further_processing(25.6)\n",
      "do_further_processing(20.8)\n",
      "do_further_processing(20.3)\n",
      "do_further_processing(24.2)\n",
      "do_error_handling()\n"
     ]
    }
   ],
   "source": [
    "for _ in range(10):\n",
    "    try:\n",
    "        temp = read_temperature_ex()\n",
    "        print(\"do_further_processing({:.1f})\".format(temp))\n",
    "    except TempSensorUnavailableError as e:\n",
    "        print(\"do_error_handling()\")\n",
    "    \n",
    "   "
   ]
  },
  {
   "cell_type": "markdown",
   "metadata": {},
   "source": [
    "### Advantages of using Exceptions\n",
    "- Code readability by using standards instead of proprietary conventions \n",
    "- Error forwarding through hierarchies \n",
    "- Unhandled errors end up in the stacktrace instead of mysterious subsequent faults\n",
    "\n",
    "### Disadvantages of using Exceptions\n",
    "- Performance penalty"
   ]
  }
 ],
 "metadata": {
  "kernelspec": {
   "display_name": "Python 3",
   "language": "python",
   "name": "python3"
  },
  "language_info": {
   "codemirror_mode": {
    "name": "ipython",
    "version": 3
   },
   "file_extension": ".py",
   "mimetype": "text/x-python",
   "name": "python",
   "nbconvert_exporter": "python",
   "pygments_lexer": "ipython3",
   "version": "3.6.10"
  }
 },
 "nbformat": 4,
 "nbformat_minor": 4
}
