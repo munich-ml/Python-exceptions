{
 "cells": [
  {
   "cell_type": "markdown",
   "metadata": {},
   "source": [
    "### Python's `sys`-module\n",
    "Test for the Python verion in use and the path of `python.exe` using the `sys`-module"
   ]
  },
  {
   "cell_type": "code",
   "execution_count": 3,
   "metadata": {},
   "outputs": [
    {
     "name": "stdout",
     "output_type": "stream",
     "text": [
      "C:\\ProgramData\\Anaconda3\\python.exe\n",
      "3.6.10 |Anaconda, Inc.| (default, Mar 23 2020, 17:58:33) [MSC v.1916 64 bit (AMD64)]\n"
     ]
    }
   ],
   "source": [
    "import sys\n",
    "print(sys.version)\n",
    "print(sys.executable)"
   ]
  },
  {
   "cell_type": "markdown",
   "metadata": {},
   "source": [
    "### `where python`\n",
    "Running `where python` from `cmd` returns the location(s) of `python.exe` that is(are) known to the system"
   ]
  },
  {
   "cell_type": "markdown",
   "metadata": {},
   "source": [
    "### `PATH`"
   ]
  },
  {
   "cell_type": "code",
   "execution_count": 7,
   "metadata": {},
   "outputs": [
    {
     "data": {
      "text/plain": [
       "['C:\\\\ProgramData\\\\Anaconda3\\\\python.exe']"
      ]
     },
     "execution_count": 7,
     "metadata": {},
     "output_type": "execute_result"
    }
   ],
   "source": [
    "%system where python"
   ]
  },
  {
   "cell_type": "code",
   "execution_count": 11,
   "metadata": {},
   "outputs": [
    {
     "data": {
      "text/plain": [
       "['PATH=C:\\\\ProgramData\\\\Anaconda3;C:\\\\ProgramData\\\\Anaconda3\\\\Library\\\\mingw-w64\\\\bin;C:\\\\ProgramData\\\\Anaconda3\\\\Library\\\\usr\\\\bin;C:\\\\ProgramData\\\\Anaconda3\\\\Library\\\\bin;C:\\\\ProgramData\\\\Anaconda3\\\\Scripts;C:\\\\ProgramData\\\\Anaconda3\\\\bin;C:\\\\Windows\\\\system32;C:\\\\Windows;C:\\\\Windows\\\\System32\\\\Wbem;C:\\\\Windows\\\\System32\\\\WindowsPowerShell\\\\v1.0;C:\\\\Program Files\\\\Keysight\\\\IO Libraries Suite\\\\bin;C:\\\\Program Files\\\\IVI Foundation\\\\VISA\\\\Win64\\\\ktvisa;C:\\\\Program Files\\\\IVI Foundation\\\\VISA\\\\Win64\\\\bin;C:\\\\Program Files (x86)\\\\Keysight\\\\IO Libraries Suite\\\\bin;C:\\\\Program Files (x86)\\\\IVI Foundation\\\\VISA\\\\WinNT\\\\ktvisa;C:\\\\Program Files (x86)\\\\IVI Foundation\\\\VISA\\\\WinNT\\\\bin;C:\\\\Program Files (x86)\\\\IVI Foundation\\\\IVI\\\\bin;C:\\\\Program Files\\\\IVI Foundation\\\\IVI\\\\bin;C:\\\\Program Files (x86)\\\\IVI Foundation\\\\VISA\\\\WinNT\\\\Bin;C:\\\\Program Files\\\\IVI Foundation\\\\VISA\\\\Win64\\\\Bin;C:\\\\Program Files (x86)\\\\IVI Foundation\\\\VISA\\\\winnt\\\\agvisa;C:\\\\Program Files\\\\TortoiseSVN\\\\bin;C:\\\\Program Files\\\\Microsoft VS Code\\\\bin;C:\\\\ProgramData\\\\Anaconda3;C:\\\\ProgramData\\\\Anaconda3\\\\Library\\\\bin;C:\\\\ProgramData\\\\Anaconda3\\\\Library\\\\mingw-w64\\\\bin;C:\\\\ProgramData\\\\Anaconda3\\\\Library\\\\usr\\\\bin;C:\\\\ProgramData\\\\Anaconda3\\\\Scripts;C:\\\\ProgramData\\\\Anaconda3\\\\bin;C:\\\\ProgramData\\\\Anaconda3\\\\condabin;C:\\\\Users\\\\hsteffens\\\\AppData\\\\Local\\\\Programs\\\\Microsoft VS Code\\\\bin;C:\\\\ProgramData\\\\Anaconda3;C:\\\\MinGW\\\\bin']"
      ]
     },
     "execution_count": 11,
     "metadata": {},
     "output_type": "execute_result"
    }
   ],
   "source": [
    "%system path"
   ]
  },
  {
   "cell_type": "code",
   "execution_count": 18,
   "metadata": {},
   "outputs": [
    {
     "name": "stdout",
     "output_type": "stream",
     "text": [
      "PATH=C:\\ProgramData\\Anaconda3\n",
      "C:\\ProgramData\\Anaconda3\\Library\\mingw-w64\\bin\n",
      "C:\\ProgramData\\Anaconda3\\Library\\usr\\bin\n",
      "C:\\ProgramData\\Anaconda3\\Library\\bin\n",
      "C:\\ProgramData\\Anaconda3\\Scripts\n",
      "C:\\ProgramData\\Anaconda3\\bin\n",
      "C:\\Windows\\system32\n",
      "C:\\Windows\n",
      "C:\\Windows\\System32\\Wbem\n",
      "C:\\Windows\\System32\\WindowsPowerShell\\v1.0\n",
      "C:\\Program Files\\Keysight\\IO Libraries Suite\\bin\n",
      "C:\\Program Files\\IVI Foundation\\VISA\\Win64\\ktvisa\n",
      "C:\\Program Files\\IVI Foundation\\VISA\\Win64\\bin\n",
      "C:\\Program Files (x86)\\Keysight\\IO Libraries Suite\\bin\n",
      "C:\\Program Files (x86)\\IVI Foundation\\VISA\\WinNT\\ktvisa\n",
      "C:\\Program Files (x86)\\IVI Foundation\\VISA\\WinNT\\bin\n",
      "C:\\Program Files (x86)\\IVI Foundation\\IVI\\bin\n",
      "C:\\Program Files\\IVI Foundation\\IVI\\bin\n",
      "C:\\Program Files (x86)\\IVI Foundation\\VISA\\WinNT\\Bin\n",
      "C:\\Program Files\\IVI Foundation\\VISA\\Win64\\Bin\n",
      "C:\\Program Files (x86)\\IVI Foundation\\VISA\\winnt\\agvisa\n",
      "C:\\Program Files\\TortoiseSVN\\bin\n",
      "C:\\Program Files\\Microsoft VS Code\\bin\n",
      "C:\\ProgramData\\Anaconda3\n",
      "C:\\ProgramData\\Anaconda3\\Library\\bin\n",
      "C:\\ProgramData\\Anaconda3\\Library\\mingw-w64\\bin\n",
      "C:\\ProgramData\\Anaconda3\\Library\\usr\\bin\n",
      "C:\\ProgramData\\Anaconda3\\Scripts\n",
      "C:\\ProgramData\\Anaconda3\\bin\n",
      "C:\\ProgramData\\Anaconda3\\condabin\n",
      "C:\\Users\\hsteffens\\AppData\\Local\\Programs\\Microsoft VS Code\\bin\n",
      "C:\\ProgramData\\Anaconda3\n",
      "C:\\MinGW\\bin\n"
     ]
    }
   ],
   "source": [
    "paths = %system path\n",
    "for p in paths[0].split(\";\"):\n",
    "    print(p)"
   ]
  },
  {
   "source": [
    "## Various Spyder issues"
   ],
   "cell_type": "markdown",
   "metadata": {}
  },
  {
   "source": [
    "Old data in hidden `appdata` directory may overwrite Anaconda settings. Thus, consider to delete the entire `C:\\Users\\USERNAME\\AppData\\Roaming\\Python` subdirectory.\n",
    "\n",
    "The `appdata` can easily be found by typing `%appdata%` into the windows explorer address bar.\n",
    "\n",
    "Source: Youtube [Spyder says: Don't mix pip and conda](https://www.youtube.com/watch?v=Ul79ihg41Rs)"
   ],
   "cell_type": "markdown",
   "metadata": {}
  },
  {
   "cell_type": "code",
   "execution_count": null,
   "metadata": {},
   "outputs": [],
   "source": []
  }
 ],
 "metadata": {
  "kernelspec": {
   "display_name": "Python 3",
   "language": "python",
   "name": "python3"
  },
  "language_info": {
   "codemirror_mode": {
    "name": "ipython",
    "version": 3
   },
   "file_extension": ".py",
   "mimetype": "text/x-python",
   "name": "python",
   "nbconvert_exporter": "python",
   "pygments_lexer": "ipython3",
   "version": "3.6.10"
  }
 },
 "nbformat": 4,
 "nbformat_minor": 2
}